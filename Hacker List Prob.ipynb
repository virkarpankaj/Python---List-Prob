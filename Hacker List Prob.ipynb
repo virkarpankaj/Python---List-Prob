{
 "cells": [
  {
   "cell_type": "raw",
   "id": "24cdf82b",
   "metadata": {},
   "source": [
    "Consider a list (list = []). You can perform the following commands:\n",
    "\n",
    "insert i e: Insert integer  at position i.\n",
    "print: Print the list.\n",
    "remove e: Delete the first occurrence of integer e .\n",
    "append e: Insert integer e at the end of the list.\n",
    "sort: Sort the list.\n",
    "pop: Pop the last element from the list.\n",
    "reverse: Reverse the list.\n",
    "\n",
    "Initialize your list and read in the value of n  followed by n lines of commands where each command will be of the 7 types listed above. Iterate through each command in order and perform the corresponding operation on your list."
   ]
  },
  {
   "cell_type": "code",
   "execution_count": null,
   "id": "6f287ef9",
   "metadata": {},
   "outputs": [],
   "source": [
    "N = int(input())\n",
    "    \n",
    "list_op = []\n",
    "for i in range(N):\n",
    "    command = input().split()\n",
    "            \n",
    "    if command[0] == 'insert':\n",
    "        list_op.insert(int(command[1]),int(command[2]))\n",
    "    \n",
    "    elif command[0] == 'print':\n",
    "        print(list_op)\n",
    "        \n",
    "    elif command[0] == 'remove':\n",
    "        list_op.remove(int(command[1]))\n",
    "    \n",
    "    elif command[0] == 'append':\n",
    "        list_op.append(int(command[1]))\n",
    "    \n",
    "    elif command[0] == 'sort':\n",
    "        list_op.sort()\n",
    "    \n",
    "    elif command[0] == 'pop':\n",
    "        list_op.pop()\n",
    "    \n",
    "    elif command[0] == 'reverse':\n",
    "        list_op.reverse()\n"
   ]
  },
  {
   "cell_type": "code",
   "execution_count": null,
   "id": "7e464642",
   "metadata": {},
   "outputs": [],
   "source": []
  }
 ],
 "metadata": {
  "kernelspec": {
   "display_name": "Python 3 (ipykernel)",
   "language": "python",
   "name": "python3"
  },
  "language_info": {
   "codemirror_mode": {
    "name": "ipython",
    "version": 3
   },
   "file_extension": ".py",
   "mimetype": "text/x-python",
   "name": "python",
   "nbconvert_exporter": "python",
   "pygments_lexer": "ipython3",
   "version": "3.9.7"
  },
  "varInspector": {
   "cols": {
    "lenName": 16,
    "lenType": 16,
    "lenVar": 40
   },
   "kernels_config": {
    "python": {
     "delete_cmd_postfix": "",
     "delete_cmd_prefix": "del ",
     "library": "var_list.py",
     "varRefreshCmd": "print(var_dic_list())"
    },
    "r": {
     "delete_cmd_postfix": ") ",
     "delete_cmd_prefix": "rm(",
     "library": "var_list.r",
     "varRefreshCmd": "cat(var_dic_list()) "
    }
   },
   "types_to_exclude": [
    "module",
    "function",
    "builtin_function_or_method",
    "instance",
    "_Feature"
   ],
   "window_display": false
  }
 },
 "nbformat": 4,
 "nbformat_minor": 5
}
